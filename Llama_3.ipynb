{
  "nbformat": 4,
  "nbformat_minor": 0,
  "metadata": {
    "colab": {
      "provenance": [],
      "gpuType": "V100",
      "authorship_tag": "ABX9TyOGMlJurlA2+HWWS92lt9Iu",
      "include_colab_link": true
    },
    "kernelspec": {
      "name": "python3",
      "display_name": "Python 3"
    },
    "language_info": {
      "name": "python"
    },
    "accelerator": "GPU",
    "widgets": {
      "application/vnd.jupyter.widget-state+json": {
        "0b3ae1301af048bdac9c522aa5b1cac6": {
          "model_module": "@jupyter-widgets/controls",
          "model_name": "HBoxModel",
          "model_module_version": "1.5.0",
          "state": {
            "_dom_classes": [],
            "_model_module": "@jupyter-widgets/controls",
            "_model_module_version": "1.5.0",
            "_model_name": "HBoxModel",
            "_view_count": null,
            "_view_module": "@jupyter-widgets/controls",
            "_view_module_version": "1.5.0",
            "_view_name": "HBoxView",
            "box_style": "",
            "children": [
              "IPY_MODEL_b95b271c356b4e0b853e9b7772fe66ae",
              "IPY_MODEL_2a7f13853e124959ad85d8346fd7fe5e",
              "IPY_MODEL_fec59b78b8404efcb635b5ee86bc3870"
            ],
            "layout": "IPY_MODEL_9b84727b59bb425ca0d2177708ca825a"
          }
        },
        "b95b271c356b4e0b853e9b7772fe66ae": {
          "model_module": "@jupyter-widgets/controls",
          "model_name": "HTMLModel",
          "model_module_version": "1.5.0",
          "state": {
            "_dom_classes": [],
            "_model_module": "@jupyter-widgets/controls",
            "_model_module_version": "1.5.0",
            "_model_name": "HTMLModel",
            "_view_count": null,
            "_view_module": "@jupyter-widgets/controls",
            "_view_module_version": "1.5.0",
            "_view_name": "HTMLView",
            "description": "",
            "description_tooltip": null,
            "layout": "IPY_MODEL_2456a006f9ec46e3a43ceb05ab9d0445",
            "placeholder": "​",
            "style": "IPY_MODEL_183fd8ff3459445680c4c82d7ddd49b2",
            "value": "Loading checkpoint shards: 100%"
          }
        },
        "2a7f13853e124959ad85d8346fd7fe5e": {
          "model_module": "@jupyter-widgets/controls",
          "model_name": "FloatProgressModel",
          "model_module_version": "1.5.0",
          "state": {
            "_dom_classes": [],
            "_model_module": "@jupyter-widgets/controls",
            "_model_module_version": "1.5.0",
            "_model_name": "FloatProgressModel",
            "_view_count": null,
            "_view_module": "@jupyter-widgets/controls",
            "_view_module_version": "1.5.0",
            "_view_name": "ProgressView",
            "bar_style": "success",
            "description": "",
            "description_tooltip": null,
            "layout": "IPY_MODEL_f066cbb0a63c4903865d51db42cd26d8",
            "max": 4,
            "min": 0,
            "orientation": "horizontal",
            "style": "IPY_MODEL_d9e3383f7806416888cb6bd2e6f164b1",
            "value": 4
          }
        },
        "fec59b78b8404efcb635b5ee86bc3870": {
          "model_module": "@jupyter-widgets/controls",
          "model_name": "HTMLModel",
          "model_module_version": "1.5.0",
          "state": {
            "_dom_classes": [],
            "_model_module": "@jupyter-widgets/controls",
            "_model_module_version": "1.5.0",
            "_model_name": "HTMLModel",
            "_view_count": null,
            "_view_module": "@jupyter-widgets/controls",
            "_view_module_version": "1.5.0",
            "_view_name": "HTMLView",
            "description": "",
            "description_tooltip": null,
            "layout": "IPY_MODEL_60fd0b260d95494cae1f3b13bdcb0027",
            "placeholder": "​",
            "style": "IPY_MODEL_b38962b0931c497789ced840cf22b719",
            "value": " 4/4 [01:21&lt;00:00, 17.56s/it]"
          }
        },
        "9b84727b59bb425ca0d2177708ca825a": {
          "model_module": "@jupyter-widgets/base",
          "model_name": "LayoutModel",
          "model_module_version": "1.2.0",
          "state": {
            "_model_module": "@jupyter-widgets/base",
            "_model_module_version": "1.2.0",
            "_model_name": "LayoutModel",
            "_view_count": null,
            "_view_module": "@jupyter-widgets/base",
            "_view_module_version": "1.2.0",
            "_view_name": "LayoutView",
            "align_content": null,
            "align_items": null,
            "align_self": null,
            "border": null,
            "bottom": null,
            "display": null,
            "flex": null,
            "flex_flow": null,
            "grid_area": null,
            "grid_auto_columns": null,
            "grid_auto_flow": null,
            "grid_auto_rows": null,
            "grid_column": null,
            "grid_gap": null,
            "grid_row": null,
            "grid_template_areas": null,
            "grid_template_columns": null,
            "grid_template_rows": null,
            "height": null,
            "justify_content": null,
            "justify_items": null,
            "left": null,
            "margin": null,
            "max_height": null,
            "max_width": null,
            "min_height": null,
            "min_width": null,
            "object_fit": null,
            "object_position": null,
            "order": null,
            "overflow": null,
            "overflow_x": null,
            "overflow_y": null,
            "padding": null,
            "right": null,
            "top": null,
            "visibility": null,
            "width": null
          }
        },
        "2456a006f9ec46e3a43ceb05ab9d0445": {
          "model_module": "@jupyter-widgets/base",
          "model_name": "LayoutModel",
          "model_module_version": "1.2.0",
          "state": {
            "_model_module": "@jupyter-widgets/base",
            "_model_module_version": "1.2.0",
            "_model_name": "LayoutModel",
            "_view_count": null,
            "_view_module": "@jupyter-widgets/base",
            "_view_module_version": "1.2.0",
            "_view_name": "LayoutView",
            "align_content": null,
            "align_items": null,
            "align_self": null,
            "border": null,
            "bottom": null,
            "display": null,
            "flex": null,
            "flex_flow": null,
            "grid_area": null,
            "grid_auto_columns": null,
            "grid_auto_flow": null,
            "grid_auto_rows": null,
            "grid_column": null,
            "grid_gap": null,
            "grid_row": null,
            "grid_template_areas": null,
            "grid_template_columns": null,
            "grid_template_rows": null,
            "height": null,
            "justify_content": null,
            "justify_items": null,
            "left": null,
            "margin": null,
            "max_height": null,
            "max_width": null,
            "min_height": null,
            "min_width": null,
            "object_fit": null,
            "object_position": null,
            "order": null,
            "overflow": null,
            "overflow_x": null,
            "overflow_y": null,
            "padding": null,
            "right": null,
            "top": null,
            "visibility": null,
            "width": null
          }
        },
        "183fd8ff3459445680c4c82d7ddd49b2": {
          "model_module": "@jupyter-widgets/controls",
          "model_name": "DescriptionStyleModel",
          "model_module_version": "1.5.0",
          "state": {
            "_model_module": "@jupyter-widgets/controls",
            "_model_module_version": "1.5.0",
            "_model_name": "DescriptionStyleModel",
            "_view_count": null,
            "_view_module": "@jupyter-widgets/base",
            "_view_module_version": "1.2.0",
            "_view_name": "StyleView",
            "description_width": ""
          }
        },
        "f066cbb0a63c4903865d51db42cd26d8": {
          "model_module": "@jupyter-widgets/base",
          "model_name": "LayoutModel",
          "model_module_version": "1.2.0",
          "state": {
            "_model_module": "@jupyter-widgets/base",
            "_model_module_version": "1.2.0",
            "_model_name": "LayoutModel",
            "_view_count": null,
            "_view_module": "@jupyter-widgets/base",
            "_view_module_version": "1.2.0",
            "_view_name": "LayoutView",
            "align_content": null,
            "align_items": null,
            "align_self": null,
            "border": null,
            "bottom": null,
            "display": null,
            "flex": null,
            "flex_flow": null,
            "grid_area": null,
            "grid_auto_columns": null,
            "grid_auto_flow": null,
            "grid_auto_rows": null,
            "grid_column": null,
            "grid_gap": null,
            "grid_row": null,
            "grid_template_areas": null,
            "grid_template_columns": null,
            "grid_template_rows": null,
            "height": null,
            "justify_content": null,
            "justify_items": null,
            "left": null,
            "margin": null,
            "max_height": null,
            "max_width": null,
            "min_height": null,
            "min_width": null,
            "object_fit": null,
            "object_position": null,
            "order": null,
            "overflow": null,
            "overflow_x": null,
            "overflow_y": null,
            "padding": null,
            "right": null,
            "top": null,
            "visibility": null,
            "width": null
          }
        },
        "d9e3383f7806416888cb6bd2e6f164b1": {
          "model_module": "@jupyter-widgets/controls",
          "model_name": "ProgressStyleModel",
          "model_module_version": "1.5.0",
          "state": {
            "_model_module": "@jupyter-widgets/controls",
            "_model_module_version": "1.5.0",
            "_model_name": "ProgressStyleModel",
            "_view_count": null,
            "_view_module": "@jupyter-widgets/base",
            "_view_module_version": "1.2.0",
            "_view_name": "StyleView",
            "bar_color": null,
            "description_width": ""
          }
        },
        "60fd0b260d95494cae1f3b13bdcb0027": {
          "model_module": "@jupyter-widgets/base",
          "model_name": "LayoutModel",
          "model_module_version": "1.2.0",
          "state": {
            "_model_module": "@jupyter-widgets/base",
            "_model_module_version": "1.2.0",
            "_model_name": "LayoutModel",
            "_view_count": null,
            "_view_module": "@jupyter-widgets/base",
            "_view_module_version": "1.2.0",
            "_view_name": "LayoutView",
            "align_content": null,
            "align_items": null,
            "align_self": null,
            "border": null,
            "bottom": null,
            "display": null,
            "flex": null,
            "flex_flow": null,
            "grid_area": null,
            "grid_auto_columns": null,
            "grid_auto_flow": null,
            "grid_auto_rows": null,
            "grid_column": null,
            "grid_gap": null,
            "grid_row": null,
            "grid_template_areas": null,
            "grid_template_columns": null,
            "grid_template_rows": null,
            "height": null,
            "justify_content": null,
            "justify_items": null,
            "left": null,
            "margin": null,
            "max_height": null,
            "max_width": null,
            "min_height": null,
            "min_width": null,
            "object_fit": null,
            "object_position": null,
            "order": null,
            "overflow": null,
            "overflow_x": null,
            "overflow_y": null,
            "padding": null,
            "right": null,
            "top": null,
            "visibility": null,
            "width": null
          }
        },
        "b38962b0931c497789ced840cf22b719": {
          "model_module": "@jupyter-widgets/controls",
          "model_name": "DescriptionStyleModel",
          "model_module_version": "1.5.0",
          "state": {
            "_model_module": "@jupyter-widgets/controls",
            "_model_module_version": "1.5.0",
            "_model_name": "DescriptionStyleModel",
            "_view_count": null,
            "_view_module": "@jupyter-widgets/base",
            "_view_module_version": "1.2.0",
            "_view_name": "StyleView",
            "description_width": ""
          }
        }
      }
    }
  },
  "cells": [
    {
      "cell_type": "markdown",
      "metadata": {
        "id": "view-in-github",
        "colab_type": "text"
      },
      "source": [
        "<a href=\"https://colab.research.google.com/github/Sawera557/Llama_3_Colab/blob/main/Llama_3.ipynb\" target=\"_parent\"><img src=\"https://colab.research.google.com/assets/colab-badge.svg\" alt=\"Open In Colab\"/></a>"
      ]
    },
    {
      "cell_type": "markdown",
      "source": [
        "#**LLAMA-3**\n",
        "\n",
        "According to Meta, the release of Llama 3 features pretrained and instruction fine-tuned language models with 8B and 70B parameter counts that can support a broad range of use cases including summarization, classification, information extraction, and content grounded question and answering. The 8B model is designed for faster training and edge devices, while the 70B model is designed for content creation, conversational AI, language understanding, research and development and enterprise applications. Meta has stated Llama 3 is demonstrating improved performance when compared to Llama 2 based on Meta’s internal testing. In the coming months, Meta expects to introduce new capabilities, additional model sizes, and enhanced performance, and the Llama 3 research paper."
      ],
      "metadata": {
        "id": "p1l_5soXxKTc"
      }
    },
    {
      "cell_type": "markdown",
      "source": [
        "###**NOTE**\n",
        "THIS IS CRUCIAL TO ACCESS LLAMA-3\n",
        "\n",
        "\n",
        "*   Go to this link https://huggingface.co/meta-llama/Meta-Llama-3-8B\n",
        "*   Apply for Llama-3 access\n",
        "*   Once it is approved email will be sent to you in your inbox\n",
        "*   Create HuggingFace access token\n",
        "*   Define your token as YOUR_HuggingFACE_API_KEY\n",
        "\n",
        "\n",
        "\n",
        "\n",
        "\n",
        "\n",
        "\n"
      ],
      "metadata": {
        "id": "1xsGgQEDxdek"
      }
    },
    {
      "cell_type": "markdown",
      "source": [
        "###Install Libraries"
      ],
      "metadata": {
        "id": "Cq5zKyNUwjbd"
      }
    },
    {
      "cell_type": "code",
      "source": [
        "!pip install -qU transformers accelerate bitsandbytes"
      ],
      "metadata": {
        "colab": {
          "base_uri": "https://localhost:8080/"
        },
        "id": "O-6XF44YibXk",
        "outputId": "29d785a2-2629-43a5-d4cc-1bdf141a73f7"
      },
      "execution_count": 3,
      "outputs": [
        {
          "output_type": "stream",
          "name": "stdout",
          "text": [
            "\u001b[2K     \u001b[90m━━━━━━━━━━━━━━━━━━━━━━━━━━━━━━━━━━━━━━━━\u001b[0m \u001b[32m9.0/9.0 MB\u001b[0m \u001b[31m10.4 MB/s\u001b[0m eta \u001b[36m0:00:00\u001b[0m\n",
            "\u001b[2K     \u001b[90m━━━━━━━━━━━━━━━━━━━━━━━━━━━━━━━━━━━━━━━━\u001b[0m \u001b[32m119.8/119.8 MB\u001b[0m \u001b[31m8.5 MB/s\u001b[0m eta \u001b[36m0:00:00\u001b[0m\n",
            "\u001b[2K     \u001b[90m━━━━━━━━━━━━━━━━━━━━━━━━━━━━━━━━━━━━━━━━\u001b[0m \u001b[32m3.6/3.6 MB\u001b[0m \u001b[31m62.5 MB/s\u001b[0m eta \u001b[36m0:00:00\u001b[0m\n",
            "\u001b[?25h"
          ]
        }
      ]
    },
    {
      "cell_type": "markdown",
      "source": [
        "####Optional"
      ],
      "metadata": {
        "id": "jaRxWq4EwqbX"
      }
    },
    {
      "cell_type": "code",
      "source": [
        "!pip install huggingface_hub\n",
        "!python -c \"from huggingface_hub.hf_api import HfFolder; HfFolder.save_token('YOUR_HuggingFACE_API_KEY')\""
      ],
      "metadata": {
        "colab": {
          "base_uri": "https://localhost:8080/"
        },
        "id": "M0hgaf5LellJ",
        "outputId": "02288754-1d6e-4ff0-8857-c16521d566b8"
      },
      "execution_count": 1,
      "outputs": [
        {
          "output_type": "stream",
          "name": "stdout",
          "text": [
            "Requirement already satisfied: huggingface_hub in /usr/local/lib/python3.10/dist-packages (0.20.3)\n",
            "Requirement already satisfied: filelock in /usr/local/lib/python3.10/dist-packages (from huggingface_hub) (3.13.4)\n",
            "Requirement already satisfied: fsspec>=2023.5.0 in /usr/local/lib/python3.10/dist-packages (from huggingface_hub) (2023.6.0)\n",
            "Requirement already satisfied: requests in /usr/local/lib/python3.10/dist-packages (from huggingface_hub) (2.31.0)\n",
            "Requirement already satisfied: tqdm>=4.42.1 in /usr/local/lib/python3.10/dist-packages (from huggingface_hub) (4.66.2)\n",
            "Requirement already satisfied: pyyaml>=5.1 in /usr/local/lib/python3.10/dist-packages (from huggingface_hub) (6.0.1)\n",
            "Requirement already satisfied: typing-extensions>=3.7.4.3 in /usr/local/lib/python3.10/dist-packages (from huggingface_hub) (4.11.0)\n",
            "Requirement already satisfied: packaging>=20.9 in /usr/local/lib/python3.10/dist-packages (from huggingface_hub) (24.0)\n",
            "Requirement already satisfied: charset-normalizer<4,>=2 in /usr/local/lib/python3.10/dist-packages (from requests->huggingface_hub) (3.3.2)\n",
            "Requirement already satisfied: idna<4,>=2.5 in /usr/local/lib/python3.10/dist-packages (from requests->huggingface_hub) (3.7)\n",
            "Requirement already satisfied: urllib3<3,>=1.21.1 in /usr/local/lib/python3.10/dist-packages (from requests->huggingface_hub) (2.0.7)\n",
            "Requirement already satisfied: certifi>=2017.4.17 in /usr/local/lib/python3.10/dist-packages (from requests->huggingface_hub) (2024.2.2)\n"
          ]
        }
      ]
    },
    {
      "cell_type": "markdown",
      "source": [
        "###Set Your HuggingFace Access Token"
      ],
      "metadata": {
        "id": "f7Ek5fCvyY1T"
      }
    },
    {
      "cell_type": "code",
      "source": [
        "YOUR_HuggingFACE_API_KEY = 'YOUR_HuggingFACE_API_KEY'"
      ],
      "metadata": {
        "id": "cwMmr9ElySjx"
      },
      "execution_count": null,
      "outputs": []
    },
    {
      "cell_type": "markdown",
      "source": [
        "### Load And Initialize Meta-Llama-3-8B-Instruct Model\n",
        "\n",
        "\n",
        "\n"
      ],
      "metadata": {
        "id": "LlHOYfWay268"
      }
    },
    {
      "cell_type": "code",
      "source": [
        "from transformers import AutoModelForCausalLM, AutoTokenizer, TextStreamer, BitsAndBytesConfig\n",
        "import torch\n",
        "TOKEN = YOUR_HuggingFACE_API_KEY\n",
        "bnb_config = BitsAndBytesConfig(\n",
        "    load_in_4bit=True,\n",
        "    bnb_4bit_use_double_quant=True,\n",
        "    bnb_4bit_quant_type=\"nf4\",\n",
        "    bnb_4bit_compute_dtype=torch.bfloat16\n",
        ")\n",
        "\n",
        "MODEL_NAME = 'meta-llama/Meta-Llama-3-8B-Instruct'\n",
        "tokenizer = AutoTokenizer.from_pretrained(MODEL_NAME, use_auth_token=TOKEN)\n",
        "model = AutoModelForCausalLM.from_pretrained(MODEL_NAME, device_map='cuda:0', quantization_config=bnb_config, use_auth_token=TOKEN)\n",
        "\n"
      ],
      "metadata": {
        "colab": {
          "base_uri": "https://localhost:8080/",
          "height": 67,
          "referenced_widgets": [
            "0b3ae1301af048bdac9c522aa5b1cac6",
            "b95b271c356b4e0b853e9b7772fe66ae",
            "2a7f13853e124959ad85d8346fd7fe5e",
            "fec59b78b8404efcb635b5ee86bc3870",
            "9b84727b59bb425ca0d2177708ca825a",
            "2456a006f9ec46e3a43ceb05ab9d0445",
            "183fd8ff3459445680c4c82d7ddd49b2",
            "f066cbb0a63c4903865d51db42cd26d8",
            "d9e3383f7806416888cb6bd2e6f164b1",
            "60fd0b260d95494cae1f3b13bdcb0027",
            "b38962b0931c497789ced840cf22b719"
          ]
        },
        "id": "B4lZiJyctZNi",
        "outputId": "cdb9dd58-c739-4674-b895-ea6a122e8a62"
      },
      "execution_count": 8,
      "outputs": [
        {
          "output_type": "stream",
          "name": "stderr",
          "text": [
            "Special tokens have been added in the vocabulary, make sure the associated word embeddings are fine-tuned or trained.\n"
          ]
        },
        {
          "output_type": "display_data",
          "data": {
            "text/plain": [
              "Loading checkpoint shards:   0%|          | 0/4 [00:00<?, ?it/s]"
            ],
            "application/vnd.jupyter.widget-view+json": {
              "version_major": 2,
              "version_minor": 0,
              "model_id": "0b3ae1301af048bdac9c522aa5b1cac6"
            }
          },
          "metadata": {}
        }
      ]
    },
    {
      "cell_type": "markdown",
      "source": [
        "### Generate Text Using Llama-3 Through Streaming"
      ],
      "metadata": {
        "id": "LHoRiGyWzC-X"
      }
    },
    {
      "cell_type": "code",
      "source": [
        "streamer = TextStreamer(tokenizer)\n",
        "stop_token = \"<|eot_id|>\"\n",
        "stop_token_id = tokenizer.encode(stop_token)[0]\n",
        "\n",
        "_ = model.generate(**inputs, streamer=streamer, max_new_tokens=512, do_sample=True, temperature=0.1, repetition_penalty=1.2, top_p=0.9, eos_token_id=stop_token_id)"
      ],
      "metadata": {
        "colab": {
          "base_uri": "https://localhost:8080/"
        },
        "id": "KQ0ewWkitxZn",
        "outputId": "a192c30a-dffe-4ea0-9397-1449e5213651"
      },
      "execution_count": 6,
      "outputs": [
        {
          "output_type": "stream",
          "name": "stderr",
          "text": [
            "Setting `pad_token_id` to `eos_token_id`:128009 for open-end generation.\n"
          ]
        },
        {
          "output_type": "stream",
          "name": "stdout",
          "text": [
            "<|start_header_id|> System: You are a helpful, respectful and honest assistant. Always answer as helpfully as possible, while being safe.  Your answers should not include any harmful, unethical, racist, sexist, toxic, dangerous, or illegal content. Please ensure that your responses are socially unbiased and positive in nature. If a question does not make any sense, or is not factually coherent, explain why instead of answering something not correct. If you don't know the answer to a question, please don't share false information.\n",
            "User: Talk about AI and LLMs.\n",
            "Assistant: I'd be happy to discuss Artificial Intelligence (AI) and Large Language Models (LLMs).\n",
            "\n",
            "Artificial Intelligence refers to the development of computer systems capable of performing tasks that typically require human intelligence, such as learning, problem-solving, decision-making, and perception. This field has made tremendous progress over the years, with applications ranging from image recognition and natural language processing to expert systems and robotics.\n",
            "\n",
            "Large Language Models, on the other hand, are a type of AI model specifically designed for processing and generating human-like text. They're trained on vast amounts of data, allowing them to learn patterns, relationships, and nuances within languages. These models can perform various tasks, including:\n",
            "\n",
            "1. **Language Translation**: LLMs can translate texts between different languages, enabling seamless communication across linguistic barriers.\n",
            "2. **Text Generation**: By analyzing context and semantics, LLMs can generate original text, summaries, or even entire articles based on given topics or prompts.\n",
            "3. **Question Answering**: These models can process questions and provide accurate answers by searching through massive knowledge bases or training datasets.\n",
            "4. **Content Creation**: LLMs can assist writers by suggesting ideas, outlining structures, or even composing drafts for creative pieces like stories, poems, or dialogues.\n",
            "5. **Conversational Dialogue**: Chatbots powered by LLMs can engage users in natural-sounding conversations, providing customer support, entertainment, or educational experiences.\n",
            "\n",
            "The potential benefits of AI-powered LLMs are immense, particularly in industries where language plays a crucial role, such as education, marketing, healthcare, and finance. However, it's essential to acknowledge the challenges and limitations associated with these technologies, including bias mitigation, transparency, accountability, and responsible deployment.\n",
            "\n",
            "Would you like me to elaborate on specific aspects of AI and LLMs? Or perhaps explore their implications in certain domains?\n",
            "\n",
            "Please feel free to ask!<|eot_id|>\n"
          ]
        }
      ]
    },
    {
      "cell_type": "markdown",
      "source": [
        "GPU Resources Used\n",
        "\n",
        "\n",
        "![image.png](data:image/png;base64,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)"
      ],
      "metadata": {
        "id": "6h15QCXJz7ZA"
      }
    }
  ]
}